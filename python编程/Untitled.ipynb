{
 "cells": [
  {
   "cell_type": "code",
   "execution_count": null,
   "metadata": {},
   "outputs": [
    {
     "name": "stdout",
     "output_type": "stream",
     "text": [
      " | | \n",
      "-+-+-\n",
      " | | \n",
      "-+-+-\n",
      " | | \n",
      "Turn for X. Move on which space?\n",
      "mid-R\n",
      " | | \n",
      "-+-+-\n",
      " | |X\n",
      "-+-+-\n",
      " | | \n",
      "Turn for O. Move on which space?\n",
      "top-R\n",
      " | |O\n",
      "-+-+-\n",
      " | |X\n",
      "-+-+-\n",
      " | | \n",
      "Turn for X. Move on which space?\n",
      "M\n",
      " | |O\n",
      "-+-+-\n",
      " | |X\n",
      "-+-+-\n",
      " | | \n",
      "Turn for O. Move on which space?\n"
     ]
    }
   ],
   "source": [
    "theBoard = {'top-L':' ', 'top-M':' ', 'top-R' : ' ',\n",
    "           'mid-L':' ', 'mid-M':' ', 'mid-R':' ', 'low-L':' ', \n",
    "           'low-M':' ', 'low-R':' '}\n",
    "# 尝试打印棋盘\n",
    "def printBoard(board):\n",
    "    print(board['top-L'] + '|' + board['top-M'] + '|' + board['top-R'])\n",
    "    print('-+-+-')\n",
    "    print(board['mid-L'] + '|' + board['mid-M'] + '|' + board['mid-R'])\n",
    "    print('-+-+-')\n",
    "    print(board['low-L'] + '|' + board['low-M'] + '|' + board['low-R'])\n",
    "    \n",
    "turn = 'X'\n",
    "for i in range(9):\n",
    "    printBoard(theBoard)\n",
    "    print('Turn for ' + turn + '. Move on which space?')\n",
    "    move = input()\n",
    "    theBoard[move] = turn\n",
    "    if turn == 'X':\n",
    "        turn = 'O'\n",
    "    else:\n",
    "        turn = 'X'\n",
    "        \n",
    "printBoard(theBoard)"
   ]
  },
  {
   "cell_type": "code",
   "execution_count": null,
   "metadata": {},
   "outputs": [],
   "source": [
    "print('hello, world')"
   ]
  },
  {
   "cell_type": "code",
   "execution_count": null,
   "metadata": {},
   "outputs": [],
   "source": []
  },
  {
   "cell_type": "code",
   "execution_count": null,
   "metadata": {},
   "outputs": [],
   "source": []
  },
  {
   "cell_type": "code",
   "execution_count": null,
   "metadata": {},
   "outputs": [],
   "source": []
  }
 ],
 "metadata": {
  "kernelspec": {
   "display_name": "Python 3",
   "language": "python",
   "name": "python3"
  },
  "language_info": {
   "codemirror_mode": {
    "name": "ipython",
    "version": 3
   },
   "file_extension": ".py",
   "mimetype": "text/x-python",
   "name": "python",
   "nbconvert_exporter": "python",
   "pygments_lexer": "ipython3",
   "version": "3.7.4"
  }
 },
 "nbformat": 4,
 "nbformat_minor": 2
}
