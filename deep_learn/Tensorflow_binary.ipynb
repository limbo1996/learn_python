{
 "cells": [
  {
   "cell_type": "code",
   "execution_count": 2,
   "id": "97f2f221",
   "metadata": {},
   "outputs": [],
   "source": [
    "import tensorflow as tf\n",
    "from tensorflow import keras"
   ]
  },
  {
   "cell_type": "code",
   "execution_count": 3,
   "id": "77c9d3e7",
   "metadata": {},
   "outputs": [
    {
     "name": "stdout",
     "output_type": "stream",
     "text": [
      "2.5.0\n"
     ]
    }
   ],
   "source": [
    "import numpy as np\n",
    "\n",
    "print(tf.__version__)"
   ]
  },
  {
   "cell_type": "markdown",
   "id": "fb678d36",
   "metadata": {},
   "source": [
    "## 数据加载"
   ]
  },
  {
   "cell_type": "code",
   "execution_count": 4,
   "id": "c9fe94a9",
   "metadata": {},
   "outputs": [
    {
     "name": "stderr",
     "output_type": "stream",
     "text": [
      "<__array_function__ internals>:5: VisibleDeprecationWarning: Creating an ndarray from ragged nested sequences (which is a list-or-tuple of lists-or-tuples-or ndarrays with different lengths or shapes) is deprecated. If you meant to do this, you must specify 'dtype=object' when creating the ndarray\n",
      "/Users/yudd/miniconda3/lib/python3.9/site-packages/tensorflow/python/keras/datasets/imdb.py:155: VisibleDeprecationWarning: Creating an ndarray from ragged nested sequences (which is a list-or-tuple of lists-or-tuples-or ndarrays with different lengths or shapes) is deprecated. If you meant to do this, you must specify 'dtype=object' when creating the ndarray\n",
      "  x_train, y_train = np.array(xs[:idx]), np.array(labels[:idx])\n",
      "/Users/yudd/miniconda3/lib/python3.9/site-packages/tensorflow/python/keras/datasets/imdb.py:156: VisibleDeprecationWarning: Creating an ndarray from ragged nested sequences (which is a list-or-tuple of lists-or-tuples-or ndarrays with different lengths or shapes) is deprecated. If you meant to do this, you must specify 'dtype=object' when creating the ndarray\n",
      "  x_test, y_test = np.array(xs[idx:]), np.array(labels[idx:])\n"
     ]
    }
   ],
   "source": [
    "imdb = keras.datasets.imdb\n",
    "(train_data, train_labels), (test_data, test_labels) = imdb.load_data(num_words=10000)"
   ]
  },
  {
   "cell_type": "markdown",
   "id": "ccff0a6a",
   "metadata": {},
   "source": [
    "`num_words = 10000`保留了训练数据最常出现的10000个单词"
   ]
  },
  {
   "cell_type": "markdown",
   "id": "25a756c7",
   "metadata": {},
   "source": [
    "## 探索数据"
   ]
  },
  {
   "cell_type": "markdown",
   "id": "215cd09a",
   "metadata": {},
   "source": [
    "每个样本表示的是影评中词汇的整数数组,标签是0/1, 0代表消极,1代表积极"
   ]
  },
  {
   "cell_type": "code",
   "execution_count": 5,
   "id": "0650881c",
   "metadata": {},
   "outputs": [
    {
     "name": "stdout",
     "output_type": "stream",
     "text": [
      "Training entries: 25000, labels: 25000\n"
     ]
    }
   ],
   "source": [
    "print(\"Training entries: {}, labels: {}\".format(len(train_data), len(train_labels)))"
   ]
  },
  {
   "cell_type": "markdown",
   "id": "07157920",
   "metadata": {},
   "source": [
    "评论的文本被转换为了整数值,其中每个证书代表词典中的一个单词,例如首条评论"
   ]
  },
  {
   "cell_type": "code",
   "execution_count": 6,
   "id": "c3516e89",
   "metadata": {},
   "outputs": [
    {
     "name": "stdout",
     "output_type": "stream",
     "text": [
      "[1, 14, 22, 16, 43, 530, 973, 1622, 1385, 65, 458, 4468, 66, 3941, 4, 173, 36, 256, 5, 25, 100, 43, 838, 112, 50, 670, 2, 9, 35, 480, 284, 5, 150, 4, 172, 112, 167, 2, 336, 385, 39, 4, 172, 4536, 1111, 17, 546, 38, 13, 447, 4, 192, 50, 16, 6, 147, 2025, 19, 14, 22, 4, 1920, 4613, 469, 4, 22, 71, 87, 12, 16, 43, 530, 38, 76, 15, 13, 1247, 4, 22, 17, 515, 17, 12, 16, 626, 18, 2, 5, 62, 386, 12, 8, 316, 8, 106, 5, 4, 2223, 5244, 16, 480, 66, 3785, 33, 4, 130, 12, 16, 38, 619, 5, 25, 124, 51, 36, 135, 48, 25, 1415, 33, 6, 22, 12, 215, 28, 77, 52, 5, 14, 407, 16, 82, 2, 8, 4, 107, 117, 5952, 15, 256, 4, 2, 7, 3766, 5, 723, 36, 71, 43, 530, 476, 26, 400, 317, 46, 7, 4, 2, 1029, 13, 104, 88, 4, 381, 15, 297, 98, 32, 2071, 56, 26, 141, 6, 194, 7486, 18, 4, 226, 22, 21, 134, 476, 26, 480, 5, 144, 30, 5535, 18, 51, 36, 28, 224, 92, 25, 104, 4, 226, 65, 16, 38, 1334, 88, 12, 16, 283, 5, 16, 4472, 113, 103, 32, 15, 16, 5345, 19, 178, 32]\n"
     ]
    }
   ],
   "source": [
    "print(train_data[0])"
   ]
  },
  {
   "cell_type": "markdown",
   "id": "854332e4",
   "metadata": {},
   "source": [
    "由于评论的单词数量并不一定相同,但是神经网络的输入必须是统一的长度,这个问题需要稍后解决,首先看一下第一条和第二条的单词数量"
   ]
  },
  {
   "cell_type": "code",
   "execution_count": 7,
   "id": "e96b2a4f",
   "metadata": {},
   "outputs": [
    {
     "data": {
      "text/plain": [
       "(218, 189)"
      ]
     },
     "execution_count": 7,
     "metadata": {},
     "output_type": "execute_result"
    }
   ],
   "source": [
    "len(train_data[0]), len(train_data[1])"
   ]
  },
  {
   "cell_type": "markdown",
   "id": "76447687",
   "metadata": {},
   "source": [
    "## 将整数转换为单词\n"
   ]
  },
  {
   "cell_type": "code",
   "execution_count": 8,
   "id": "c6f60837",
   "metadata": {},
   "outputs": [],
   "source": [
    "# 一个映射单词到整数索引的字典\n",
    "word_index = imdb.get_word_index()\n",
    "\n",
    "# 保留第一个索引\n",
    "word_index = {k: (v + 3) for k,v in word_index.items()}\n",
    "word_index[\"<PAD>\" ] = 0\n",
    "word_index[\"<START>\"] = 1\n",
    "word_index[\"<UNK>\" ] = 2 # unknown\n",
    "word_index[\"<UNUSED>\"] = 3\n",
    "\n",
    "\n",
    "\n",
    "reverse_word_index = dict([(value, key) for (key, value) in word_index.items()])\n",
    "\n",
    "\n",
    "def decode_review(text):\n",
    "    return \" \".join(\n",
    "        [reverse_word_index.get(i, \"?\") for i in text]\n",
    "    )\n"
   ]
  },
  {
   "cell_type": "code",
   "execution_count": 9,
   "id": "34748f16",
   "metadata": {},
   "outputs": [
    {
     "data": {
      "text/plain": [
       "\"<START> big hair big boobs bad music and a giant safety pin these are the words to best describe this terrible movie i love cheesy horror movies and i've seen hundreds but this had got to be on of the worst ever made the plot is paper thin and ridiculous the acting is an abomination the script is completely laughable the best is the end showdown with the cop and how he worked out who the killer is it's just so damn terribly written the clothes are sickening and funny in equal <UNK> the hair is big lots of boobs <UNK> men wear those cut <UNK> shirts that show off their <UNK> sickening that men actually wore them and the music is just <UNK> trash that plays over and over again in almost every scene there is trashy music boobs and <UNK> taking away bodies and the gym still doesn't close for <UNK> all joking aside this is a truly bad film whose only charm is to look back on the disaster that was the 80's and have a good old laugh at how bad everything was back then\""
      ]
     },
     "execution_count": 9,
     "metadata": {},
     "output_type": "execute_result"
    }
   ],
   "source": [
    "decode_review(train_data[1])"
   ]
  },
  {
   "cell_type": "markdown",
   "id": "45d47a2d",
   "metadata": {},
   "source": [
    "## 准备数据"
   ]
  },
  {
   "cell_type": "markdown",
   "id": "328e3894",
   "metadata": {},
   "source": [
    "由于电影评论的长度必须相同,可以使用`pad_sequences`标准化"
   ]
  },
  {
   "cell_type": "code",
   "execution_count": 10,
   "id": "ea20effd",
   "metadata": {},
   "outputs": [],
   "source": [
    "train_data = keras.preprocessing.sequence.pad_sequences(train_data,\n",
    "                                                       value=word_index[\"<PAD>\"],# 用来补齐的值\n",
    "                                                       padding=\"post\",\n",
    "                                                       maxlen = 256)\n",
    "test_data = keras.preprocessing.sequence.pad_sequences(test_data,\n",
    "                                                       value=word_index[\"<PAD>\"],\n",
    "                                                       padding=\"post\",\n",
    "                                                       maxlen = 256)"
   ]
  },
  {
   "cell_type": "markdown",
   "id": "160a6585",
   "metadata": {},
   "source": [
    "查看样本长度"
   ]
  },
  {
   "cell_type": "code",
   "execution_count": 11,
   "id": "da7289e7",
   "metadata": {},
   "outputs": [
    {
     "data": {
      "text/plain": [
       "(256, 256)"
      ]
     },
     "execution_count": 11,
     "metadata": {},
     "output_type": "execute_result"
    }
   ],
   "source": [
    "len(train_data[0]), len(train_data[1])"
   ]
  },
  {
   "cell_type": "code",
   "execution_count": 14,
   "id": "27da089e",
   "metadata": {},
   "outputs": [
    {
     "name": "stdout",
     "output_type": "stream",
     "text": [
      "(256,)\n"
     ]
    }
   ],
   "source": [
    "print(train_data[0].shape)"
   ]
  },
  {
   "cell_type": "markdown",
   "id": "f5439f53",
   "metadata": {},
   "source": [
    "## 构建模型"
   ]
  },
  {
   "cell_type": "code",
   "execution_count": 24,
   "id": "612bbbf9",
   "metadata": {},
   "outputs": [
    {
     "name": "stdout",
     "output_type": "stream",
     "text": [
      "Model: \"sequential_1\"\n",
      "_________________________________________________________________\n",
      "Layer (type)                 Output Shape              Param #   \n",
      "=================================================================\n",
      "embedding_1 (Embedding)      (None, None, 16)          160000    \n",
      "_________________________________________________________________\n",
      "global_average_pooling1d_1 ( (None, 16)                0         \n",
      "_________________________________________________________________\n",
      "dense_2 (Dense)              (None, 16)                272       \n",
      "_________________________________________________________________\n",
      "dense_3 (Dense)              (None, 1)                 17        \n",
      "=================================================================\n",
      "Total params: 160,289\n",
      "Trainable params: 160,289\n",
      "Non-trainable params: 0\n",
      "_________________________________________________________________\n"
     ]
    }
   ],
   "source": [
    "## 输入形状是用于电影评论的词汇数目\n",
    "vocab_size = 10000\n",
    "\n",
    "model = keras.Sequential()\n",
    "model.add(keras.layers.Embedding(vocab_size, 16))\n",
    "model.add(keras.layers.GlobalAveragePooling1D())\n",
    "model.add(keras.layers.Dense(16, activation = \"relu\"))\n",
    "model.add(keras.layers.Dense(1, activation = \"sigmoid\"))\n",
    "\n",
    "model.summary()"
   ]
  },
  {
   "cell_type": "markdown",
   "id": "59988600",
   "metadata": {},
   "source": [
    "### 损失函数和优化器"
   ]
  },
  {
   "cell_type": "markdown",
   "id": "f2202f32",
   "metadata": {},
   "source": [
    "由于这是一个二分类问题且模型输出概率值, 使用`bindary_crossentropy`损失函数"
   ]
  },
  {
   "cell_type": "code",
   "execution_count": 25,
   "id": "1f4429ea",
   "metadata": {},
   "outputs": [],
   "source": [
    "model.compile(optimizer=\"adam\",\n",
    "             loss=\"binary_crossentropy\",\n",
    "             metrics=[\"accuracy\"])"
   ]
  },
  {
   "cell_type": "markdown",
   "id": "2d0bcdfb",
   "metadata": {},
   "source": [
    "### 创建一个验证集"
   ]
  },
  {
   "cell_type": "markdown",
   "id": "16b0ab09",
   "metadata": {},
   "source": [
    "从原始的训练数据中分离出10000个样本来创建一个验证集"
   ]
  },
  {
   "cell_type": "code",
   "execution_count": 26,
   "id": "6c8992eb",
   "metadata": {},
   "outputs": [],
   "source": [
    "x_val = train_data[:10000]\n",
    "partial_x_train = train_data[10000:]\n",
    "\n",
    "\n",
    "y_val = train_labels[:10000]\n",
    "partial_y_train = train_labels[10000:]"
   ]
  },
  {
   "cell_type": "markdown",
   "id": "935cba9d",
   "metadata": {},
   "source": [
    "### 训练模型"
   ]
  },
  {
   "cell_type": "markdown",
   "id": "ce67c50a",
   "metadata": {},
   "source": [
    "以512个样本的minibatch来迭代40个epoch来训练模型,训练过程中,监测验证机的损失率和准确率"
   ]
  },
  {
   "cell_type": "code",
   "execution_count": 27,
   "id": "d0da43e7",
   "metadata": {},
   "outputs": [
    {
     "name": "stdout",
     "output_type": "stream",
     "text": [
      "Epoch 1/40\n",
      "30/30 [==============================] - 1s 11ms/step - loss: 0.6916 - accuracy: 0.5599 - val_loss: 0.6893 - val_accuracy: 0.6783\n",
      "Epoch 2/40\n",
      "30/30 [==============================] - 0s 7ms/step - loss: 0.6853 - accuracy: 0.7271 - val_loss: 0.6803 - val_accuracy: 0.7262\n",
      "Epoch 3/40\n",
      "30/30 [==============================] - 0s 8ms/step - loss: 0.6709 - accuracy: 0.7609 - val_loss: 0.6625 - val_accuracy: 0.7607\n",
      "Epoch 4/40\n",
      "30/30 [==============================] - 0s 7ms/step - loss: 0.6467 - accuracy: 0.7791 - val_loss: 0.6355 - val_accuracy: 0.7746\n",
      "Epoch 5/40\n",
      "30/30 [==============================] - 0s 8ms/step - loss: 0.6123 - accuracy: 0.7975 - val_loss: 0.5996 - val_accuracy: 0.7886\n",
      "Epoch 6/40\n",
      "30/30 [==============================] - 0s 8ms/step - loss: 0.5695 - accuracy: 0.8164 - val_loss: 0.5581 - val_accuracy: 0.8059\n",
      "Epoch 7/40\n",
      "30/30 [==============================] - 0s 7ms/step - loss: 0.5225 - accuracy: 0.8357 - val_loss: 0.5152 - val_accuracy: 0.8208\n",
      "Epoch 8/40\n",
      "30/30 [==============================] - 0s 8ms/step - loss: 0.4754 - accuracy: 0.8507 - val_loss: 0.4749 - val_accuracy: 0.8346\n",
      "Epoch 9/40\n",
      "30/30 [==============================] - 0s 10ms/step - loss: 0.4325 - accuracy: 0.8628 - val_loss: 0.4384 - val_accuracy: 0.8459\n",
      "Epoch 10/40\n",
      "30/30 [==============================] - 0s 9ms/step - loss: 0.3942 - accuracy: 0.8731 - val_loss: 0.4082 - val_accuracy: 0.8535\n",
      "Epoch 11/40\n",
      "30/30 [==============================] - 0s 10ms/step - loss: 0.3620 - accuracy: 0.8826 - val_loss: 0.3839 - val_accuracy: 0.8587\n",
      "Epoch 12/40\n",
      "30/30 [==============================] - 0s 9ms/step - loss: 0.3348 - accuracy: 0.8890 - val_loss: 0.3642 - val_accuracy: 0.8656\n",
      "Epoch 13/40\n",
      "30/30 [==============================] - 0s 8ms/step - loss: 0.3116 - accuracy: 0.8959 - val_loss: 0.3485 - val_accuracy: 0.8688\n",
      "Epoch 14/40\n",
      "30/30 [==============================] - 0s 8ms/step - loss: 0.2921 - accuracy: 0.9009 - val_loss: 0.3357 - val_accuracy: 0.8719\n",
      "Epoch 15/40\n",
      "30/30 [==============================] - 0s 8ms/step - loss: 0.2755 - accuracy: 0.9052 - val_loss: 0.3276 - val_accuracy: 0.8701\n",
      "Epoch 16/40\n",
      "30/30 [==============================] - 0s 10ms/step - loss: 0.2595 - accuracy: 0.9103 - val_loss: 0.3165 - val_accuracy: 0.8768\n",
      "Epoch 17/40\n",
      "30/30 [==============================] - 0s 10ms/step - loss: 0.2458 - accuracy: 0.9158 - val_loss: 0.3094 - val_accuracy: 0.8795\n",
      "Epoch 18/40\n",
      "30/30 [==============================] - 0s 10ms/step - loss: 0.2335 - accuracy: 0.9207 - val_loss: 0.3037 - val_accuracy: 0.8798\n",
      "Epoch 19/40\n",
      "30/30 [==============================] - 0s 10ms/step - loss: 0.2220 - accuracy: 0.9232 - val_loss: 0.2992 - val_accuracy: 0.8800\n",
      "Epoch 20/40\n",
      "30/30 [==============================] - 0s 9ms/step - loss: 0.2119 - accuracy: 0.9273 - val_loss: 0.2953 - val_accuracy: 0.8810\n",
      "Epoch 21/40\n",
      "30/30 [==============================] - 0s 9ms/step - loss: 0.2019 - accuracy: 0.9312 - val_loss: 0.2918 - val_accuracy: 0.8827\n",
      "Epoch 22/40\n",
      "30/30 [==============================] - 0s 9ms/step - loss: 0.1926 - accuracy: 0.9356 - val_loss: 0.2893 - val_accuracy: 0.8833\n",
      "Epoch 23/40\n",
      "30/30 [==============================] - 0s 9ms/step - loss: 0.1843 - accuracy: 0.9395 - val_loss: 0.2874 - val_accuracy: 0.8848\n",
      "Epoch 24/40\n",
      "30/30 [==============================] - 0s 10ms/step - loss: 0.1764 - accuracy: 0.9435 - val_loss: 0.2859 - val_accuracy: 0.8850\n",
      "Epoch 25/40\n",
      "30/30 [==============================] - 0s 10ms/step - loss: 0.1688 - accuracy: 0.9471 - val_loss: 0.2854 - val_accuracy: 0.8843\n",
      "Epoch 26/40\n",
      "30/30 [==============================] - 0s 8ms/step - loss: 0.1623 - accuracy: 0.9490 - val_loss: 0.2847 - val_accuracy: 0.8858\n",
      "Epoch 27/40\n",
      "30/30 [==============================] - 0s 9ms/step - loss: 0.1556 - accuracy: 0.9519 - val_loss: 0.2851 - val_accuracy: 0.8846\n",
      "Epoch 28/40\n",
      "30/30 [==============================] - 0s 10ms/step - loss: 0.1491 - accuracy: 0.9549 - val_loss: 0.2850 - val_accuracy: 0.8854\n",
      "Epoch 29/40\n",
      "30/30 [==============================] - 0s 9ms/step - loss: 0.1433 - accuracy: 0.9573 - val_loss: 0.2881 - val_accuracy: 0.8851\n",
      "Epoch 30/40\n",
      "30/30 [==============================] - 0s 10ms/step - loss: 0.1382 - accuracy: 0.9587 - val_loss: 0.2885 - val_accuracy: 0.8830\n",
      "Epoch 31/40\n",
      "30/30 [==============================] - 0s 8ms/step - loss: 0.1324 - accuracy: 0.9609 - val_loss: 0.2882 - val_accuracy: 0.8857\n",
      "Epoch 32/40\n",
      "30/30 [==============================] - 0s 8ms/step - loss: 0.1269 - accuracy: 0.9633 - val_loss: 0.2902 - val_accuracy: 0.8858\n",
      "Epoch 33/40\n",
      "30/30 [==============================] - 0s 9ms/step - loss: 0.1223 - accuracy: 0.9663 - val_loss: 0.2925 - val_accuracy: 0.8840\n",
      "Epoch 34/40\n",
      "30/30 [==============================] - 0s 8ms/step - loss: 0.1179 - accuracy: 0.9669 - val_loss: 0.2933 - val_accuracy: 0.8845\n",
      "Epoch 35/40\n",
      "30/30 [==============================] - 0s 9ms/step - loss: 0.1129 - accuracy: 0.9691 - val_loss: 0.2953 - val_accuracy: 0.8856\n",
      "Epoch 36/40\n",
      "30/30 [==============================] - 0s 9ms/step - loss: 0.1091 - accuracy: 0.9706 - val_loss: 0.2985 - val_accuracy: 0.8845\n",
      "Epoch 37/40\n",
      "30/30 [==============================] - 0s 7ms/step - loss: 0.1045 - accuracy: 0.9713 - val_loss: 0.3009 - val_accuracy: 0.8850\n",
      "Epoch 38/40\n",
      "30/30 [==============================] - 0s 7ms/step - loss: 0.1009 - accuracy: 0.9731 - val_loss: 0.3032 - val_accuracy: 0.8833\n",
      "Epoch 39/40\n",
      "30/30 [==============================] - 0s 9ms/step - loss: 0.0971 - accuracy: 0.9748 - val_loss: 0.3060 - val_accuracy: 0.8830\n",
      "Epoch 40/40\n",
      "30/30 [==============================] - 0s 9ms/step - loss: 0.0936 - accuracy: 0.9753 - val_loss: 0.3105 - val_accuracy: 0.8809\n"
     ]
    }
   ],
   "source": [
    "history = model.fit(partial_x_train,\n",
    "                   partial_y_train,\n",
    "                   epochs=40,\n",
    "                   batch_size = 512,\n",
    "                   validation_data = (x_val, y_val),\n",
    "                   verbose = 1)"
   ]
  },
  {
   "cell_type": "markdown",
   "id": "b8a00b27",
   "metadata": {},
   "source": [
    "## 评估模型"
   ]
  },
  {
   "cell_type": "code",
   "execution_count": 28,
   "id": "4e81676f",
   "metadata": {},
   "outputs": [
    {
     "name": "stdout",
     "output_type": "stream",
     "text": [
      "782/782 - 0s - loss: 0.3299 - accuracy: 0.8726\n",
      "[0.3298547565937042, 0.8726400136947632]\n"
     ]
    }
   ],
   "source": [
    "results = model.evaluate(test_data, test_labels, verbose=2)\n",
    "print(results)"
   ]
  },
  {
   "cell_type": "markdown",
   "id": "f3eae5c7",
   "metadata": {},
   "source": [
    "## 创建一个准确率和损失值随时间变化的图表"
   ]
  },
  {
   "cell_type": "code",
   "execution_count": 30,
   "id": "d12a047f",
   "metadata": {},
   "outputs": [
    {
     "data": {
      "text/plain": [
       "dict_keys(['loss', 'accuracy', 'val_loss', 'val_accuracy'])"
      ]
     },
     "execution_count": 30,
     "metadata": {},
     "output_type": "execute_result"
    }
   ],
   "source": [
    "history_dict = history.history\n",
    "history_dict.keys()"
   ]
  },
  {
   "cell_type": "markdown",
   "id": "abf4e8ef",
   "metadata": {},
   "source": [
    "有四个条目,在训练过程中和验证过程中,每个条目对应一个监控指标"
   ]
  },
  {
   "cell_type": "code",
   "execution_count": 31,
   "id": "7e660397",
   "metadata": {},
   "outputs": [
    {
     "data": {
      "image/png": "[encoded data removed]",
      "text/plain": [
       "<Figure size 432x288 with 1 Axes>"
      ]
     },
     "metadata": {
      "needs_background": "light"
     },
     "output_type": "display_data"
    }
   ],
   "source": [
    "import matplotlib.pyplot as plt\n",
    "\n",
    "acc = history_dict['accuracy']\n",
    "val_acc = history_dict['val_accuracy']\n",
    "loss = history_dict['loss']\n",
    "val_loss = history_dict['val_loss']\n",
    "\n",
    "epochs = range(1, len(acc) + 1)\n",
    "# bo代表蓝点\n",
    "plt.plot(epochs, loss, 'bo', label = \"Training loss\")\n",
    "# b代表蓝色实线\n",
    "plt.plot(epochs, val_loss, 'b', label = \"Validation loss\")\n",
    "plt.legend()\n",
    "plt.show()"
   ]
  },
  {
   "cell_type": "code",
   "execution_count": 32,
   "id": "7094a0a7",
   "metadata": {},
   "outputs": [
    {
     "data": {
      "image/png": "[encoded data removed]",
      "text/plain": [
       "<Figure size 432x288 with 1 Axes>"
      ]
     },
     "metadata": {
      "needs_background": "light"
     },
     "output_type": "display_data"
    }
   ],
   "source": [
    "plt.clf()   # 清除数字\n",
    "\n",
    "plt.plot(epochs, acc, 'bo', label='Training acc')\n",
    "plt.plot(epochs, val_acc, 'b', label='Validation acc')\n",
    "plt.title('Training and validation accuracy')\n",
    "plt.xlabel('Epochs')\n",
    "plt.ylabel('Accuracy')\n",
    "plt.legend()\n",
    "\n",
    "plt.show()"
   ]
  },
  {
   "cell_type": "markdown",
   "id": "6d6d65cb",
   "metadata": {},
   "source": [
    "可以看到在epoch = 20时, 验证集loss达到最低,之后有所上升,而准确率保持不变,这表明和这个模型似乎有点过拟合"
   ]
  }
 ],
 "metadata": {
  "kernelspec": {
   "display_name": "Python 3 (ipykernel)",
   "language": "python",
   "name": "python3"
  },
  "language_info": {
   "codemirror_mode": {
    "name": "ipython",
    "version": 3
   },
   "file_extension": ".py",
   "mimetype": "text/x-python",
   "name": "python",
   "nbconvert_exporter": "python",
   "pygments_lexer": "ipython3",
   "version": "3.9.1"
  }
 },
 "nbformat": 4,
 "nbformat_minor": 5
}
