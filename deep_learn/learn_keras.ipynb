{
 "cells": [
  {
   "cell_type": "code",
   "execution_count": 2,
   "id": "6f7bce8c",
   "metadata": {},
   "outputs": [],
   "source": [
    "from tensorflow import keras\n",
    "from keras.utils import np_utils\n",
    "from keras.datasets import mnist\n",
    "from keras.models import Sequential\n",
    "from keras.layers import Dense, Activation"
   ]
  },
  {
   "cell_type": "markdown",
   "id": "ed3e49fd",
   "metadata": {},
   "source": [
    "一个深度学习模型的实例"
   ]
  },
  {
   "cell_type": "code",
   "execution_count": 3,
   "id": "618ebda5",
   "metadata": {},
   "outputs": [],
   "source": [
    "(X_train, Y_train), (X_test, Y_test) = mnist.load_data()"
   ]
  },
  {
   "cell_type": "code",
   "execution_count": 4,
   "id": "8bf2bf87",
   "metadata": {},
   "outputs": [],
   "source": [
    "X_train = X_train.reshape(60000, 784).astype(\"float32\") / 255.0"
   ]
  },
  {
   "cell_type": "code",
   "execution_count": 5,
   "id": "e08a4512",
   "metadata": {},
   "outputs": [],
   "source": [
    "X_test = X_test.reshape(10000, 784).astype(\"float32\") / 255.0"
   ]
  },
  {
   "cell_type": "code",
   "execution_count": 6,
   "id": "9f232a05",
   "metadata": {},
   "outputs": [],
   "source": [
    "Y_train = np_utils.to_categorical(Y_train)"
   ]
  },
  {
   "cell_type": "code",
   "execution_count": 8,
   "id": "57c68260",
   "metadata": {},
   "outputs": [],
   "source": [
    "Y_test = np_utils.to_categorical(Y_test)"
   ]
  },
  {
   "cell_type": "code",
   "execution_count": 10,
   "id": "19a55165",
   "metadata": {},
   "outputs": [
    {
     "name": "stderr",
     "output_type": "stream",
     "text": [
      "2021-07-20 22:04:03.676477: I tensorflow/core/platform/cpu_feature_guard.cc:142] This TensorFlow binary is optimized with oneAPI Deep Neural Network Library (oneDNN) to use the following CPU instructions in performance-critical operations:  AVX2 FMA\n",
      "To enable them in other operations, rebuild TensorFlow with the appropriate compiler flags.\n"
     ]
    }
   ],
   "source": [
    "model = Sequential()"
   ]
  },
  {
   "cell_type": "code",
   "execution_count": 11,
   "id": "ee5facda",
   "metadata": {},
   "outputs": [],
   "source": [
    "model.add(Dense(units = 64, input_dim = 28 * 28, activation = \"relu\"))"
   ]
  },
  {
   "cell_type": "code",
   "execution_count": 12,
   "id": "6f3acdb7",
   "metadata": {},
   "outputs": [],
   "source": [
    "model.add(Dense(units = 10, activation = \"softmax\"))"
   ]
  },
  {
   "cell_type": "code",
   "execution_count": 13,
   "id": "bc27029a",
   "metadata": {},
   "outputs": [],
   "source": [
    "model.compile(loss=\"categorical_crossentropy\", optimizer = \"sgd\", metrics=[\"accuracy\"])"
   ]
  },
  {
   "cell_type": "code",
   "execution_count": 21,
   "id": "8e919cf7",
   "metadata": {},
   "outputs": [
    {
     "name": "stdout",
     "output_type": "stream",
     "text": [
      "Epoch 1/5\n",
      "1875/1875 [==============================] - 1s 693us/step - loss: 0.2279 - accuracy: 0.9355\n",
      "Epoch 2/5\n",
      "1875/1875 [==============================] - 1s 671us/step - loss: 0.2133 - accuracy: 0.9399\n",
      "Epoch 3/5\n",
      "1875/1875 [==============================] - 1s 674us/step - loss: 0.2001 - accuracy: 0.9437\n",
      "Epoch 4/5\n",
      "1875/1875 [==============================] - 1s 684us/step - loss: 0.1890 - accuracy: 0.9470\n",
      "Epoch 5/5\n",
      "1875/1875 [==============================] - 1s 684us/step - loss: 0.1791 - accuracy: 0.9497\n"
     ]
    },
    {
     "data": {
      "text/plain": [
       "<keras.callbacks.History at 0x7f96773317c0>"
      ]
     },
     "execution_count": 21,
     "metadata": {},
     "output_type": "execute_result"
    }
   ],
   "source": [
    "model.fit(X_train, Y_train, epochs=5, batch_size = 32)"
   ]
  },
  {
   "cell_type": "code",
   "execution_count": 22,
   "id": "4944516c",
   "metadata": {},
   "outputs": [
    {
     "name": "stdout",
     "output_type": "stream",
     "text": [
      "313/313 [==============================] - 0s 641us/step - loss: 0.1776 - accuracy: 0.9478\n"
     ]
    }
   ],
   "source": [
    "loss_and_metrics = model.evaluate(X_test, Y_test, batch_size=32)"
   ]
  },
  {
   "cell_type": "code",
   "execution_count": 23,
   "id": "60129a54",
   "metadata": {},
   "outputs": [
    {
     "name": "stdout",
     "output_type": "stream",
     "text": [
      "loss_and_metrics: [0.17764976620674133, 0.9477999806404114]\n"
     ]
    }
   ],
   "source": [
    "print(\"loss_and_metrics: \" + str(loss_and_metrics))"
   ]
  },
  {
   "cell_type": "markdown",
   "id": "b4d540dd",
   "metadata": {},
   "source": [
    "将深度模型可视化"
   ]
  },
  {
   "cell_type": "code",
   "execution_count": 28,
   "id": "44749d60",
   "metadata": {},
   "outputs": [],
   "source": [
    "from IPython.display import SVG\n",
    "from keras.utils.vis_utils import model_to_dot"
   ]
  },
  {
   "cell_type": "code",
   "execution_count": 29,
   "id": "144cc469",
   "metadata": {},
   "outputs": [
    {
     "data": {
      "image/svg+xml": [
       "<svg xmlns=\"http://www.w3.org/2000/svg\" xmlns:xlink=\"http://www.w3.org/1999/xlink\" width=\"415pt\" height=\"295pt\" viewBox=\"0.00 0.00 311.00 221.00\">\n",
       "<g id=\"graph0\" class=\"graph\" transform=\"scale(1.33 1.33) rotate(0) translate(4 217)\">\n",
       "<title>G</title>\n",
       "<polygon fill=\"white\" stroke=\"transparent\" points=\"-4,4 -4,-217 307,-217 307,4 -4,4\"/>\n",
       "<!-- 140284732124992 -->\n",
       "<g id=\"node1\" class=\"node\">\n",
       "<title>140284732124992</title>\n",
       "<polygon fill=\"none\" stroke=\"black\" points=\"0,-166.5 0,-212.5 303,-212.5 303,-166.5 0,-166.5\"/>\n",
       "<text text-anchor=\"middle\" x=\"77\" y=\"-185.8\" font-family=\"Times,serif\" font-size=\"14.00\">dense_input: InputLayer</text>\n",
       "<polyline fill=\"none\" stroke=\"black\" points=\"154,-166.5 154,-212.5 \"/>\n",
       "<text text-anchor=\"middle\" x=\"182\" y=\"-197.3\" font-family=\"Times,serif\" font-size=\"14.00\">input:</text>\n",
       "<polyline fill=\"none\" stroke=\"black\" points=\"154,-189.5 210,-189.5 \"/>\n",
       "<text text-anchor=\"middle\" x=\"182\" y=\"-174.3\" font-family=\"Times,serif\" font-size=\"14.00\">output:</text>\n",
       "<polyline fill=\"none\" stroke=\"black\" points=\"210,-166.5 210,-212.5 \"/>\n",
       "<text text-anchor=\"middle\" x=\"256.5\" y=\"-197.3\" font-family=\"Times,serif\" font-size=\"14.00\">[(None, 784)]</text>\n",
       "<polyline fill=\"none\" stroke=\"black\" points=\"210,-189.5 303,-189.5 \"/>\n",
       "<text text-anchor=\"middle\" x=\"256.5\" y=\"-174.3\" font-family=\"Times,serif\" font-size=\"14.00\">[(None, 784)]</text>\n",
       "</g>\n",
       "<!-- 140284732122736 -->\n",
       "<g id=\"node2\" class=\"node\">\n",
       "<title>140284732122736</title>\n",
       "<polygon fill=\"none\" stroke=\"black\" points=\"36,-83.5 36,-129.5 267,-129.5 267,-83.5 36,-83.5\"/>\n",
       "<text text-anchor=\"middle\" x=\"81.5\" y=\"-102.8\" font-family=\"Times,serif\" font-size=\"14.00\">dense: Dense</text>\n",
       "<polyline fill=\"none\" stroke=\"black\" points=\"127,-83.5 127,-129.5 \"/>\n",
       "<text text-anchor=\"middle\" x=\"155\" y=\"-114.3\" font-family=\"Times,serif\" font-size=\"14.00\">input:</text>\n",
       "<polyline fill=\"none\" stroke=\"black\" points=\"127,-106.5 183,-106.5 \"/>\n",
       "<text text-anchor=\"middle\" x=\"155\" y=\"-91.3\" font-family=\"Times,serif\" font-size=\"14.00\">output:</text>\n",
       "<polyline fill=\"none\" stroke=\"black\" points=\"183,-83.5 183,-129.5 \"/>\n",
       "<text text-anchor=\"middle\" x=\"225\" y=\"-114.3\" font-family=\"Times,serif\" font-size=\"14.00\">(None, 784)</text>\n",
       "<polyline fill=\"none\" stroke=\"black\" points=\"183,-106.5 267,-106.5 \"/>\n",
       "<text text-anchor=\"middle\" x=\"225\" y=\"-91.3\" font-family=\"Times,serif\" font-size=\"14.00\">(None, 64)</text>\n",
       "</g>\n",
       "<!-- 140284732124992&#45;&gt;140284732122736 -->\n",
       "<g id=\"edge1\" class=\"edge\">\n",
       "<title>140284732124992-&gt;140284732122736</title>\n",
       "<path fill=\"none\" stroke=\"black\" d=\"M151.5,-166.37C151.5,-158.15 151.5,-148.66 151.5,-139.73\"/>\n",
       "<polygon fill=\"black\" stroke=\"black\" points=\"155,-139.61 151.5,-129.61 148,-139.61 155,-139.61\"/>\n",
       "</g>\n",
       "<!-- 140284846135328 -->\n",
       "<g id=\"node3\" class=\"node\">\n",
       "<title>140284846135328</title>\n",
       "<polygon fill=\"none\" stroke=\"black\" points=\"32.5,-0.5 32.5,-46.5 270.5,-46.5 270.5,-0.5 32.5,-0.5\"/>\n",
       "<text text-anchor=\"middle\" x=\"85\" y=\"-19.8\" font-family=\"Times,serif\" font-size=\"14.00\">dense_1: Dense</text>\n",
       "<polyline fill=\"none\" stroke=\"black\" points=\"137.5,-0.5 137.5,-46.5 \"/>\n",
       "<text text-anchor=\"middle\" x=\"165.5\" y=\"-31.3\" font-family=\"Times,serif\" font-size=\"14.00\">input:</text>\n",
       "<polyline fill=\"none\" stroke=\"black\" points=\"137.5,-23.5 193.5,-23.5 \"/>\n",
       "<text text-anchor=\"middle\" x=\"165.5\" y=\"-8.3\" font-family=\"Times,serif\" font-size=\"14.00\">output:</text>\n",
       "<polyline fill=\"none\" stroke=\"black\" points=\"193.5,-0.5 193.5,-46.5 \"/>\n",
       "<text text-anchor=\"middle\" x=\"232\" y=\"-31.3\" font-family=\"Times,serif\" font-size=\"14.00\">(None, 64)</text>\n",
       "<polyline fill=\"none\" stroke=\"black\" points=\"193.5,-23.5 270.5,-23.5 \"/>\n",
       "<text text-anchor=\"middle\" x=\"232\" y=\"-8.3\" font-family=\"Times,serif\" font-size=\"14.00\">(None, 10)</text>\n",
       "</g>\n",
       "<!-- 140284732122736&#45;&gt;140284846135328 -->\n",
       "<g id=\"edge2\" class=\"edge\">\n",
       "<title>140284732122736-&gt;140284846135328</title>\n",
       "<path fill=\"none\" stroke=\"black\" d=\"M151.5,-83.37C151.5,-75.15 151.5,-65.66 151.5,-56.73\"/>\n",
       "<polygon fill=\"black\" stroke=\"black\" points=\"155,-56.61 151.5,-46.61 148,-56.61 155,-56.61\"/>\n",
       "</g>\n",
       "</g>\n",
       "</svg>"
      ],
      "text/plain": [
       "<IPython.core.display.SVG object>"
      ]
     },
     "execution_count": 29,
     "metadata": {},
     "output_type": "execute_result"
    }
   ],
   "source": [
    "%matplotlib inline\n",
    "SVG(model_to_dot(model, show_shapes=True).create(prog=\"dot\", format=\"svg\"))"
   ]
  },
  {
   "cell_type": "markdown",
   "id": "36298040",
   "metadata": {},
   "source": [
    "储存模型"
   ]
  },
  {
   "cell_type": "code",
   "execution_count": 30,
   "id": "b2b25d4e",
   "metadata": {},
   "outputs": [],
   "source": [
    "from keras.models import load_model"
   ]
  },
  {
   "cell_type": "code",
   "execution_count": 31,
   "id": "9fb9ec67",
   "metadata": {},
   "outputs": [],
   "source": [
    "model.save(\"mnist_mlo_model.h5\")"
   ]
  },
  {
   "cell_type": "code",
   "execution_count": 33,
   "id": "cfc5a853",
   "metadata": {},
   "outputs": [],
   "source": [
    "model = load_model(\"mnist_mlo_model.h5\")"
   ]
  }
 ],
 "metadata": {
  "kernelspec": {
   "display_name": "Python 3 (ipykernel)",
   "language": "python",
   "name": "python3"
  },
  "language_info": {
   "codemirror_mode": {
    "name": "ipython",
    "version": 3
   },
   "file_extension": ".py",
   "mimetype": "text/x-python",
   "name": "python",
   "nbconvert_exporter": "python",
   "pygments_lexer": "ipython3",
   "version": "3.9.1"
  }
 },
 "nbformat": 4,
 "nbformat_minor": 5
}
