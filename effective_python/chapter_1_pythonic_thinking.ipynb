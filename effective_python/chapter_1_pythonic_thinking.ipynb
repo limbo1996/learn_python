{
 "cells": [
  {
   "cell_type": "markdown",
   "id": "cb1a025e",
   "metadata": {},
   "source": [
    "## f.string"
   ]
  },
  {
   "cell_type": "markdown",
   "id": "a5b3f3d6",
   "metadata": {},
   "source": [
    "在python中最常用的替换字符的方法是使用占位符"
   ]
  },
  {
   "cell_type": "code",
   "execution_count": 2,
   "id": "45936769",
   "metadata": {},
   "outputs": [
    {
     "name": "stdout",
     "output_type": "stream",
     "text": [
      "Binary is 187, hex is 3167\n"
     ]
    }
   ],
   "source": [
    "a = 0b10111011\n",
    "b = 0xc5f\n",
    "print('Binary is %d, hex is %d' % (a, b))"
   ]
  },
  {
   "cell_type": "markdown",
   "id": "b670f140",
   "metadata": {},
   "source": [
    "这种方式的一个缺点就是如果一边的顺序更改,另一边也需要同样的更改,且当需要替换的自负太多是会变得不好阅读"
   ]
  },
  {
   "cell_type": "code",
   "execution_count": 3,
   "id": "300b3d5e",
   "metadata": {},
   "outputs": [
    {
     "name": "stdout",
     "output_type": "stream",
     "text": [
      "my_var     = 1.23\n"
     ]
    }
   ],
   "source": [
    "key = 'my_var'\n",
    "value = 1.234\n",
    "formatted = '%-10s = %.2f' % (key, value)\n",
    "print(formatted)"
   ]
  },
  {
   "cell_type": "code",
   "execution_count": 5,
   "id": "0869f369",
   "metadata": {},
   "outputs": [
    {
     "ename": "TypeError",
     "evalue": "must be real number, not str",
     "output_type": "error",
     "traceback": [
      "\u001b[0;31m---------------------------------------------------------------------------\u001b[0m",
      "\u001b[0;31mTypeError\u001b[0m                                 Traceback (most recent call last)",
      "\u001b[0;32m/var/folders/dl/j2ph6ksd6s79dy9wbfmdyz6c0000gn/T/ipykernel_43667/3034318670.py\u001b[0m in \u001b[0;36m<module>\u001b[0;34m\u001b[0m\n\u001b[1;32m      1\u001b[0m \u001b[0mmy_var\u001b[0m \u001b[0;34m=\u001b[0m \u001b[0;36m1.23\u001b[0m\u001b[0;34m\u001b[0m\u001b[0;34m\u001b[0m\u001b[0m\n\u001b[0;32m----> 2\u001b[0;31m \u001b[0mreordered_tuple\u001b[0m \u001b[0;34m=\u001b[0m \u001b[0;34m'%-10s = %.2f'\u001b[0m \u001b[0;34m%\u001b[0m \u001b[0;34m(\u001b[0m\u001b[0mvalue\u001b[0m\u001b[0;34m,\u001b[0m \u001b[0mkey\u001b[0m\u001b[0;34m)\u001b[0m\u001b[0;34m\u001b[0m\u001b[0;34m\u001b[0m\u001b[0m\n\u001b[0m",
      "\u001b[0;31mTypeError\u001b[0m: must be real number, not str"
     ]
    }
   ],
   "source": [
    "my_var = 1.23\n",
    "reordered_tuple = '%-10s = %.2f' % (value, key)"
   ]
  },
  {
   "cell_type": "markdown",
   "id": "e4607562",
   "metadata": {},
   "source": [
    "在python3.6之后支持`f-string`,可以方便的快速替换"
   ]
  },
  {
   "cell_type": "code",
   "execution_count": 8,
   "id": "2110e7cc",
   "metadata": {},
   "outputs": [
    {
     "name": "stdout",
     "output_type": "stream",
     "text": [
      "my_var = 1.234\n"
     ]
    }
   ],
   "source": [
    "key = \"my_var\"\n",
    "value = 1.234\n",
    "\n",
    "formatted = f'{key} = {value}'\n",
    "print(formatted)"
   ]
  },
  {
   "cell_type": "code",
   "execution_count": 9,
   "id": "73d98d33",
   "metadata": {},
   "outputs": [
    {
     "name": "stdout",
     "output_type": "stream",
     "text": [
      "'my_var'   = 1.23\n"
     ]
    }
   ],
   "source": [
    "formatted = f'{key!r:<10} = {value:.2f}'\n",
    "print(formatted)"
   ]
  },
  {
   "cell_type": "markdown",
   "id": "281e65eb",
   "metadata": {},
   "source": [
    "### 不同替换格式"
   ]
  },
  {
   "cell_type": "code",
   "execution_count": 10,
   "id": "4833838d",
   "metadata": {},
   "outputs": [],
   "source": [
    "f_string = f'{key:<10} = {value:.2f}'\n",
    "c_tuple = '%-10s = %.2f' % (key, value)\n",
    "str_args = '{:<10} = {:.2f}'.format(key, value)\n",
    "str_kw = '{key:<10} = {value:.2f}'.format(key=key,\n",
    "                                        value=value)\n",
    "c_dict = '%(key)-10s = %(value).2f' % {'key': key,\n",
    "                                        'value': value}"
   ]
  },
  {
   "cell_type": "markdown",
   "id": "6552091e",
   "metadata": {},
   "source": [
    "得到的结果都相同,也用了同样的参数,但是`f string`明显更加易读和简便"
   ]
  },
  {
   "cell_type": "code",
   "execution_count": null,
   "id": "c4705620",
   "metadata": {},
   "outputs": [],
   "source": []
  }
 ],
 "metadata": {
  "kernelspec": {
   "display_name": "Python 3 (ipykernel)",
   "language": "python",
   "name": "python3"
  },
  "language_info": {
   "codemirror_mode": {
    "name": "ipython",
    "version": 3
   },
   "file_extension": ".py",
   "mimetype": "text/x-python",
   "name": "python",
   "nbconvert_exporter": "python",
   "pygments_lexer": "ipython3",
   "version": "3.9.1"
  }
 },
 "nbformat": 4,
 "nbformat_minor": 5
}
